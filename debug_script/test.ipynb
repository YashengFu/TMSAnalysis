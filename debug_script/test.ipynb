{
 "cells": [
  {
   "cell_type": "code",
   "execution_count": 4,
   "metadata": {},
   "outputs": [
    {
     "output_type": "execute_result",
     "data": {
      "text/plain": [
       "array([ 1.        ,  1.30612245,  1.6122449 ,  1.91836735,  2.2244898 ,\n",
       "        2.53061224,  2.83673469,  3.14285714,  3.44897959,  3.75510204,\n",
       "        4.06122449,  4.36734694,  4.67346939,  4.97959184,  5.28571429,\n",
       "        5.59183673,  5.89795918,  6.20408163,  6.51020408,  6.81632653,\n",
       "        7.12244898,  7.42857143,  7.73469388,  8.04081633,  8.34693878,\n",
       "        8.65306122,  8.95918367,  9.26530612,  9.57142857,  9.87755102,\n",
       "       10.18367347, 10.48979592, 10.79591837, 11.10204082, 11.40816327,\n",
       "       11.71428571, 12.02040816, 12.32653061, 12.63265306, 12.93877551,\n",
       "       13.24489796, 13.55102041, 13.85714286, 14.16326531, 14.46938776,\n",
       "       14.7755102 , 15.08163265, 15.3877551 , 15.69387755, 16.        ])"
      ]
     },
     "metadata": {},
     "execution_count": 4
    }
   ],
   "source": [
    "import numpy as np\n",
    "import matplotlib.pyplot as plt\n",
    "a = np.linspace(1,16)\n",
    "plt.plot(a)"
   ]
  },
  {
   "cell_type": "code",
   "execution_count": 5,
   "metadata": {},
   "outputs": [
    {
     "output_type": "stream",
     "name": "stdout",
     "text": [
      "Welcome to JupyROOT 6.22/06\n"
     ]
    }
   ],
   "source": [
    "import ROOT"
   ]
  },
  {
   "cell_type": "code",
   "execution_count": null,
   "metadata": {},
   "outputs": [],
   "source": []
  }
 ],
 "metadata": {
  "kernelspec": {
   "display_name": "Python 3",
   "language": "python",
   "name": "python3"
  },
  "language_info": {
   "codemirror_mode": {
    "name": "ipython",
    "version": 3
   },
   "file_extension": ".py",
   "mimetype": "text/x-python",
   "name": "python",
   "nbconvert_exporter": "python",
   "pygments_lexer": "ipython3",
   "version": "3.6.8-final"
  }
 },
 "nbformat": 4,
 "nbformat_minor": 2
}