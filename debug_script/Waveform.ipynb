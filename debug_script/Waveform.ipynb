{
 "metadata": {
  "language_info": {
   "codemirror_mode": {
    "name": "ipython",
    "version": 3
   },
   "file_extension": ".py",
   "mimetype": "text/x-python",
   "name": "python",
   "nbconvert_exporter": "python",
   "pygments_lexer": "ipython3",
   "version": "3.6.8-final"
  },
  "orig_nbformat": 2,
  "kernelspec": {
   "name": "python3",
   "display_name": "Python 3",
   "language": "python"
  }
 },
 "nbformat": 4,
 "nbformat_minor": 2,
 "cells": [
  {
   "cell_type": "code",
   "execution_count": 1,
   "metadata": {},
   "outputs": [
    {
     "output_type": "error",
     "ename": "KeyboardInterrupt",
     "evalue": "",
     "traceback": [
      "\u001b[0;31m---------------------------------------------------------------------------\u001b[0m",
      "\u001b[0;31mKeyboardInterrupt\u001b[0m                         Traceback (most recent call last)",
      "\u001b[0;32m<ipython-input-1-ed8cd6556d45>\u001b[0m in \u001b[0;36m<module>\u001b[0;34m\u001b[0m\n\u001b[1;32m      3\u001b[0m \u001b[0;32mimport\u001b[0m \u001b[0mmatplotlib\u001b[0m\u001b[0;34m.\u001b[0m\u001b[0mpyplot\u001b[0m \u001b[0;32mas\u001b[0m \u001b[0mplt\u001b[0m\u001b[0;34m\u001b[0m\u001b[0;34m\u001b[0m\u001b[0m\n\u001b[1;32m      4\u001b[0m \u001b[0;32mimport\u001b[0m \u001b[0mcycler\u001b[0m\u001b[0;34m\u001b[0m\u001b[0;34m\u001b[0m\u001b[0m\n\u001b[0;32m----> 5\u001b[0;31m \u001b[0;32mimport\u001b[0m \u001b[0mhistlite\u001b[0m \u001b[0;32mas\u001b[0m \u001b[0mhl\u001b[0m\u001b[0;34m\u001b[0m\u001b[0;34m\u001b[0m\u001b[0m\n\u001b[0m\u001b[1;32m      6\u001b[0m \u001b[0;32mimport\u001b[0m \u001b[0mtime\u001b[0m\u001b[0;34m\u001b[0m\u001b[0;34m\u001b[0m\u001b[0m\n\u001b[1;32m      7\u001b[0m \u001b[0;32mimport\u001b[0m \u001b[0msys\u001b[0m\u001b[0;34m\u001b[0m\u001b[0;34m\u001b[0m\u001b[0m\n",
      "\u001b[0;32m~/.local/lib/python3.6/site-packages/histlite/__init__.py\u001b[0m in \u001b[0;36m<module>\u001b[0;34m\u001b[0m\n\u001b[1;32m     23\u001b[0m \u001b[0;32mimport\u001b[0m \u001b[0mnumpy\u001b[0m \u001b[0;32mas\u001b[0m \u001b[0mnp\u001b[0m\u001b[0;34m\u001b[0m\u001b[0;34m\u001b[0m\u001b[0m\n\u001b[1;32m     24\u001b[0m \u001b[0;32mimport\u001b[0m \u001b[0mos\u001b[0m\u001b[0;34m\u001b[0m\u001b[0;34m\u001b[0m\u001b[0m\n\u001b[0;32m---> 25\u001b[0;31m \u001b[0;32mfrom\u001b[0m \u001b[0mscipy\u001b[0m \u001b[0;32mimport\u001b[0m \u001b[0minterpolate\u001b[0m\u001b[0;34m,\u001b[0m \u001b[0mndimage\u001b[0m\u001b[0;34m,\u001b[0m \u001b[0moptimize\u001b[0m\u001b[0;34m,\u001b[0m \u001b[0mstats\u001b[0m\u001b[0;34m\u001b[0m\u001b[0;34m\u001b[0m\u001b[0m\n\u001b[0m\u001b[1;32m     26\u001b[0m \u001b[0;32mimport\u001b[0m \u001b[0mwarnings\u001b[0m\u001b[0;34m\u001b[0m\u001b[0;34m\u001b[0m\u001b[0m\n\u001b[1;32m     27\u001b[0m \u001b[0;34m\u001b[0m\u001b[0m\n",
      "\u001b[0;32m~/.local/lib/python3.6/site-packages/scipy/interpolate/__init__.py\u001b[0m in \u001b[0;36m<module>\u001b[0;34m\u001b[0m\n\u001b[1;32m    163\u001b[0m \u001b[0;34m(\u001b[0m\u001b[0mshould\u001b[0m \u001b[0;32mnot\u001b[0m \u001b[0mbe\u001b[0m \u001b[0mused\u001b[0m \u001b[0;32min\u001b[0m \u001b[0mnew\u001b[0m \u001b[0mcode\u001b[0m\u001b[0;34m)\u001b[0m\u001b[0;34m.\u001b[0m\u001b[0;34m\u001b[0m\u001b[0;34m\u001b[0m\u001b[0m\n\u001b[1;32m    164\u001b[0m \"\"\"\n\u001b[0;32m--> 165\u001b[0;31m \u001b[0;32mfrom\u001b[0m \u001b[0;34m.\u001b[0m\u001b[0minterpolate\u001b[0m \u001b[0;32mimport\u001b[0m \u001b[0;34m*\u001b[0m\u001b[0;34m\u001b[0m\u001b[0;34m\u001b[0m\u001b[0m\n\u001b[0m\u001b[1;32m    166\u001b[0m \u001b[0;32mfrom\u001b[0m \u001b[0;34m.\u001b[0m\u001b[0mfitpack\u001b[0m \u001b[0;32mimport\u001b[0m \u001b[0;34m*\u001b[0m\u001b[0;34m\u001b[0m\u001b[0;34m\u001b[0m\u001b[0m\n\u001b[1;32m    167\u001b[0m \u001b[0;34m\u001b[0m\u001b[0m\n",
      "\u001b[0;32m~/.local/lib/python3.6/site-packages/scipy/interpolate/interpolate.py\u001b[0m in \u001b[0;36m<module>\u001b[0;34m\u001b[0m\n\u001b[1;32m     11\u001b[0m                    ravel, poly1d, asarray, intp)\n\u001b[1;32m     12\u001b[0m \u001b[0;34m\u001b[0m\u001b[0m\n\u001b[0;32m---> 13\u001b[0;31m \u001b[0;32mimport\u001b[0m \u001b[0mscipy\u001b[0m\u001b[0;34m.\u001b[0m\u001b[0mspecial\u001b[0m \u001b[0;32mas\u001b[0m \u001b[0mspec\u001b[0m\u001b[0;34m\u001b[0m\u001b[0;34m\u001b[0m\u001b[0m\n\u001b[0m\u001b[1;32m     14\u001b[0m \u001b[0;32mfrom\u001b[0m \u001b[0mscipy\u001b[0m\u001b[0;34m.\u001b[0m\u001b[0mspecial\u001b[0m \u001b[0;32mimport\u001b[0m \u001b[0mcomb\u001b[0m\u001b[0;34m\u001b[0m\u001b[0;34m\u001b[0m\u001b[0m\n\u001b[1;32m     15\u001b[0m \u001b[0;32mfrom\u001b[0m \u001b[0mscipy\u001b[0m\u001b[0;34m.\u001b[0m\u001b[0m_lib\u001b[0m\u001b[0;34m.\u001b[0m\u001b[0m_util\u001b[0m \u001b[0;32mimport\u001b[0m \u001b[0mprod\u001b[0m\u001b[0;34m\u001b[0m\u001b[0;34m\u001b[0m\u001b[0m\n",
      "\u001b[0;32m~/.local/lib/python3.6/site-packages/scipy/special/__init__.py\u001b[0m in \u001b[0;36m<module>\u001b[0;34m\u001b[0m\n\u001b[1;32m    631\u001b[0m \u001b[0;32mfrom\u001b[0m \u001b[0;34m.\u001b[0m\u001b[0msf_error\u001b[0m \u001b[0;32mimport\u001b[0m \u001b[0mSpecialFunctionWarning\u001b[0m\u001b[0;34m,\u001b[0m \u001b[0mSpecialFunctionError\u001b[0m\u001b[0;34m\u001b[0m\u001b[0;34m\u001b[0m\u001b[0m\n\u001b[1;32m    632\u001b[0m \u001b[0;34m\u001b[0m\u001b[0m\n\u001b[0;32m--> 633\u001b[0;31m \u001b[0;32mfrom\u001b[0m \u001b[0;34m.\u001b[0m \u001b[0;32mimport\u001b[0m \u001b[0m_ufuncs\u001b[0m\u001b[0;34m\u001b[0m\u001b[0;34m\u001b[0m\u001b[0m\n\u001b[0m\u001b[1;32m    634\u001b[0m \u001b[0;32mfrom\u001b[0m \u001b[0;34m.\u001b[0m\u001b[0m_ufuncs\u001b[0m \u001b[0;32mimport\u001b[0m \u001b[0;34m*\u001b[0m\u001b[0;34m\u001b[0m\u001b[0;34m\u001b[0m\u001b[0m\n\u001b[1;32m    635\u001b[0m \u001b[0;34m\u001b[0m\u001b[0m\n",
      "\u001b[0;32m/usr/lib64/python3.6/importlib/_bootstrap.py\u001b[0m in \u001b[0;36mparent\u001b[0;34m(self)\u001b[0m\n",
      "\u001b[0;31mKeyboardInterrupt\u001b[0m: "
     ]
    }
   ],
   "source": [
    "import pandas as pd\n",
    "import numpy as np\n",
    "import matplotlib.pyplot as plt\n",
    "import cycler\n",
    "#import histlite as hl\n",
    "import time\n",
    "import sys\n",
    "sys.path.append('/dybfs2/nEXO/fuys/stanford_teststand')\n",
    "import os\n",
    "\n",
    "from TMSAnalysis.StruckAnalysisConfiguration import StruckAnalysisConfiguration\n",
    "from TMSAnalysis.WaveformAnalysis import Waveform\n",
    "\n",
    "plt.rcParams['axes.prop_cycle'] = cycler.cycler(color='bgrmyk')\n",
    "prop_cycle = plt.rcParams['axes.prop_cycle']\n",
    "colors = prop_cycle.by_key()['color']\n",
    "plt.rcParams['figure.figsize'] = [10, 8]\n",
    "plt.rcParams['font.size'] = 12\n",
    "\n",
    "run_parameters_file = '/dybfs2/nEXO/fuys/stanford_teststand/TMSAnalysis/config/30th/Run_Parameters_Xe_Run30_SimCompatible.csv'\n",
    "calibrations_file = '/dybfs2/nEXO/fuys/stanford_teststand/TMSAnalysis/config/30th/Calibrations_Xe_Run30.csv'\n",
    "channel_map_file = '/dybfs2/nEXO/fuys/stanford_teststand/TMSAnalysis/config/30th/Channel_Map_Run30.csv'\n",
    "\n",
    "#analysis_config object loads all these paramenters\n",
    "analysis_config = StruckAnalysisConfiguration.StruckAnalysisConfiguration()\n",
    "analysis_config.GetRunParametersFromFile( run_parameters_file )\n",
    "analysis_config.GetChannelMapFromFile( channel_map_file )\n",
    "\n",
    "for parameter, value in analysis_config.run_parameters.items():\n",
    "    print( '{:<25}\\t{:>10.6}'.format( parameter+':', float(value) ) )\n",
    "    \n",
    "sampling_period_us = analysis_config.run_parameters['Sampling Period [ns]'] / 1.e3 # Convert from ns to us\n",
    "trigger_time_samples = analysis_config.run_parameters['Pretrigger Length [samples]']\n",
    "waveform_length_samples = analysis_config.run_parameters['Waveform Length [samples]']\n",
    "\n",
    "\n"
   ]
  },
  {
   "cell_type": "code",
   "execution_count": null,
   "metadata": {},
   "outputs": [],
   "source": [
    "path_to_reduced_data = '/dybfs2/nEXO/fuys/stanford_teststand/data/30th/20200912_MorningNoise_PreRecirculation/analysis_500ns/'\n",
    "fname = path_to_reduced_data + 'tier1_SIS3316Raw_20200912180038_SiPMs_longTPC_sbias33p0_scope_trig13_35mV_cath_6022V_1-ngm_reduced.h5'\n",
    "\n",
    "data_df = pd.read_hdf(fname)\n",
    "data_df.head()"
   ]
  },
  {
   "cell_type": "code",
   "execution_count": null,
   "metadata": {},
   "outputs": [],
   "source": [
    "#for colname in data_df.columns:\n",
    "#    print(colname)\n",
    "\n",
    "charge_energy = data_df['TotalTileEnergy']\n",
    "time_of_max_channel = data_df['TimeOfMaxChannel']\n",
    "\n",
    "#data can also be selected for example a specific energy range\n",
    "mask = (data_df['TotalTileEnergy']>100) & (data_df['TotalTileEnergy']<5000)& (data_df['TotalSiPMEnergy']>100) & (data_df['TotalSiPMEnergy']<40000)\n",
    "#make a 2d histogram with the selected data (for example charge energy vs light energy)\n",
    "\n",
    "xbins = np.linspace(0.,6500.,200)\n",
    "ybins = np.linspace(0.,5000.,100)\n",
    "\n",
    "#plt.hist2d(time_of_max_channel[mask], charge_energy[mask],bins=(xbins,ybins))\n",
    "#plt.plot(time_of_max_channel[mask], charge_energy[mask],'o',color=(0.,0.,1.,0.1),markersize=1.)\n",
    "#plt.xlabel('Time of max channel (samples)')\n",
    "#plt.ylabel('Charge Energy (ADC units)')\n",
    "\n",
    "drift_time = (time_of_max_channel - analysis_config.run_parameters['Pretrigger Length [samples]'])*analysis_config.run_parameters['Sampling Period [ns]'] / 1000.\n",
    "\n",
    "#plt.hist2d(time_of_max_channel[mask], charge_energy[mask],bins=(xbins,ybins))\n",
    "#plt.plot(drift_time[mask], charge_energy[mask],'o',color=(0.,0.,1.,0.1),markersize=1.)\n",
    "#\n",
    "#plt.xlabel('Drift time (microseconds)')\n",
    "#plt.ylabel('Charge Energy (ADC units)')\n",
    "\n",
    "# Next, we can select events where the charge is only on one or two channels. This should be the case for most alpha events, since the ionization is so localized. \n",
    "\n",
    "mask = (data_df['TotalTileEnergy']>0) & (data_df['TotalTileEnergy']<500000)&(data_df['TotalSiPMEnergy']>0) & (data_df['TotalSiPMEnergy']<4000000)&(data_df['NumTileChannelsHit'] < 3000)\n",
    "\n",
    "#plt.hist2d(time_of_max_channel[mask], charge_energy[mask],bins=(xbins,ybins))\n",
    "#plt.plot(drift_time[mask], charge_energy[mask],'o',color=(0.,0.,1.,0.1),markersize=1.)\n",
    "#\n",
    "#plt.xlabel('Drift time (microseconds)')\n",
    "#plt.ylabel('Charge Energy (ADC units)')\n",
    "\n",
    "#the indexes of the events passing the cuts can be seen in this way \n",
    "cut_index = data_df[mask].index\n",
    "#print(data_df[mask])\n",
    "print('----cut_index[0]------')\n",
    "print(cut_index)\n",
    "print('-----mask----')\n",
    "print(mask)\n",
    "#a waveform can be accessed in the following way, in this case the first event passing the cut\n",
    "\n"
   ]
  },
  {
   "cell_type": "code",
   "execution_count": null,
   "metadata": {},
   "outputs": [],
   "source": [
    "event = Waveform.Event(fname,'/dybfs2/nEXO/fuys/stanford_teststand/data/30th/20200912_MorningNoise_PreRecirculation/raw_data',cut_index[0],run_parameters_file,calibrations_file,channel_map_file)\n",
    "#the second parameter in the Event class is the location of the tier1 file, which is where the low level information\n",
    "#are stored, such as the waveform. Make sure the dataset (in this case 20200213_AfterRnInjection matches with the one\n",
    "#opened in the reduced_added.h5 file), the third parameter is the number of the event you want to see the waveform of\n",
    "\n",
    "smoothing_windows_us = 0.5\n",
    "event.smooth(smoothing_windows_us)\n",
    "plot = event.plot_event(risetime=True)\n",
    "plot.show()\n",
    "#plot.savefig('./test.png')\n"
   ]
  }
 ]
}