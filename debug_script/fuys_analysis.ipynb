{
 "metadata": {
  "language_info": {
   "codemirror_mode": {
    "name": "ipython",
    "version": 3
   },
   "file_extension": ".py",
   "mimetype": "text/x-python",
   "name": "python",
   "nbconvert_exporter": "python",
   "pygments_lexer": "ipython3",
   "version": "3.6.8-final"
  },
  "orig_nbformat": 2,
  "kernelspec": {
   "name": "python3",
   "display_name": "Python 3",
   "language": "python"
  }
 },
 "nbformat": 4,
 "nbformat_minor": 2,
 "cells": [
  {
   "cell_type": "code",
   "execution_count": 2,
   "metadata": {},
   "outputs": [
    {
     "output_type": "stream",
     "name": "stdout",
     "text": [
      "1111\n"
     ]
    }
   ],
   "source": [
    "from scipy.signal import find_peaks\n",
    "print(\"1111\")"
   ]
  },
  {
   "cell_type": "code",
   "execution_count": 3,
   "metadata": {},
   "outputs": [],
   "source": [
    "import numpy as np\n",
    "from matplotlib import pyplot as plt\n",
    "from scipy.ndimage import gaussian_filter\n",
    "from scipy.signal import find_peaks\n",
    "import pandas as pd\n",
    "import histlite as hl\n",
    "plt.rcParams['figure.figsize'] = [10, 10]\n",
    "plt.rcParams.update({'font.size': 18}) \n",
    "import cycler\n",
    "import sys\n",
    "sys.path.append('/dybfs2/nEXO/fuys/stanford_teststand/')\n",
    "from TMSAnalysis.StruckAnalysisConfiguration import StruckAnalysisConfiguration\n",
    "import os\n",
    "import time\n",
    "color_cycle = plt.rcParams['axes.prop_cycle'].by_key()['color']"
   ]
  },
  {
   "cell_type": "code",
   "execution_count": 4,
   "metadata": {},
   "outputs": [],
   "source": [
    "analysis_config = StruckAnalysisConfiguration.StruckAnalysisConfiguration()\n",
    "analysis_config.GetChannelMapFromFile('/dybfs2/nEXO/fuys/stanford_teststand/TMSAnalysis/config/30th/Channel_Map_Run30.csv')\n",
    "analysis_config.GetRunParametersFromFile('/dybfs2/nEXO/fuys/stanford_teststand/TMSAnalysis/config/30th/Run_Parameters_Run30_20200911_OvernightBi207_AfterFilling.csv')\n"
   ]
  },
  {
   "cell_type": "code",
   "execution_count": 5,
   "metadata": {},
   "outputs": [
    {
     "output_type": "stream",
     "name": "stdout",
     "text": [
      "success1ful\n"
     ]
    }
   ],
   "source": [
    "#analysis_config.GetCalibrationConstantsFromFile('/dybfs2/nEXO/fuys/stanford_teststand/TMSAnalysis/config/30th/Calibrations_Xe_Run11b.csv')\n",
    "\n",
    "print(\"success1ful\")"
   ]
  },
  {
   "cell_type": "code",
   "execution_count": null,
   "metadata": {},
   "outputs": [],
   "source": [
    "#reading HDF5 filelist\n",
    "files = os.listdir('/dybfs2/nEXO/fuys/stanford_teststand/data/30th/20200912_MorningNoise_PreRecirculation/Cali_data/data/')\n",
    "#print(len(files))\n",
    "dflist = []\n",
    "file_count =0 \n",
    "for filename in files:\n",
    "    #if file_count%10==0:\n",
    "    print(file_count)\n",
    "    if file_count > 50:#by yasheng\n",
    "        break\n",
    "    file_count +=1\n",
    "    if '0912' in filename and filename.endswith('.h5'): #and file_count <50:\n",
    "        dflist.append(pd.read_hdf('/dybfs2/nEXO/fuys/stanford_teststand/data/30th/20200912_MorningNoise_PreRecirculation/Cali_data/data/'+filename))\n",
    "        \n",
    "df05 = pd.concat(dflist,ignore_index=True)\n"
   ]
  },
  {
   "cell_type": "code",
   "execution_count": null,
   "metadata": {},
   "outputs": [],
   "source": []
  }
 ]
}