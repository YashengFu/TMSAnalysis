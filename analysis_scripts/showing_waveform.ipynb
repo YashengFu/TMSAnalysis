{
 "metadata": {
  "language_info": {
   "codemirror_mode": {
    "name": "ipython",
    "version": 3
   },
   "file_extension": ".py",
   "mimetype": "text/x-python",
   "name": "python",
   "nbconvert_exporter": "python",
   "pygments_lexer": "ipython3",
   "version": "3.6.8-final"
  },
  "orig_nbformat": 2,
  "kernelspec": {
   "name": "python3",
   "display_name": "Python 3.6.8 64-bit",
   "metadata": {
    "interpreter": {
     "hash": "31f2aee4e71d21fbe5cf8b01ff0e069b9275f58929596ceb00d14d90e3e16cd6"
    }
   }
  }
 },
 "nbformat": 4,
 "nbformat_minor": 2,
 "cells": [
  {
   "source": [
    "\n",
    "### import relevant libraries"
   ],
   "cell_type": "markdown",
   "metadata": {}
  },
  {
   "source": [
    "import pandas as pd\n",
    "import numpy as np\n",
    "import matplotlib.pyplot as plt\n",
    "import cycler\n",
    "import time\n",
    "import sys\n",
    "sys.path.append('/dybfs2/nEXO/fuys/stanford_teststand')\n",
    "import os\n",
    "\n",
    "from TMSAnalysis.StruckAnalysisConfiguration import StruckAnalysisConfiguration\n",
    "from TMSAnalysis.WaveformAnalysis import Waveform\n",
    "\n",
    "plt.rcParams['axes.prop_cycle'] = cycler.cycler(color='bgrmyk')\n",
    "prop_cycle = plt.rcParams['axes.prop_cycle']\n",
    "colors = prop_cycle.by_key()['color']\n",
    "plt.rcParams['figure.figsize'] = [10, 8]\n",
    "plt.rcParams['font.size'] = 12"
   ],
   "cell_type": "code",
   "metadata": {},
   "execution_count": 3,
   "outputs": []
  },
  {
   "cell_type": "code",
   "execution_count": 4,
   "metadata": {},
   "outputs": [
    {
     "output_type": "stream",
     "name": "stdout",
     "text": [
      "Sampling Rate [MHz]:     \t      62.5\nSimulation Sampling Rate [MHz]:\t    7.8125\nElectrons/ADC [electrons]:\t      11.9\nDrift Length [mm]:       \t     140.0\nDrift Velocity [mm/us]:  \t      1.79\nNum Struck Boards:       \t       3.0\nWaveform Length [samples]:\t   11000.0\nPretrigger Length [samples]:\t    1000.0\nBaseline Length [samples]:\t     500.0\nStrip Threshold [sigma]: \t       5.0\nMax Drift Time [us]:     \t   78.2123\nSampling Period [ns]:    \t      16.0\nBaseline Average Time [us]:\t       8.0\nEnergy Start Time [us]:  \t     168.0\nDecay Start Time [us]:   \t     168.0\nDecay End Time [us]:     \t     668.0\nDecay Guess [us]:        \t     200.0\nDoInvert:                \t       0.0\n"
     ]
    }
   ],
   "source": [
    "run_parameters_file = '/dybfs2/nEXO/fuys/stanford_teststand/TMSAnalysis/config/30th/Run_Parameters_Xe_Run30_SimCompatible.csv'\n",
    "calibrations_file = '/dybfs2/nEXO/fuys/stanford_teststand/TMSAnalysis/config/30th/Calibrations_Xe_Run30.csv'\n",
    "channel_map_file = '/dybfs2/nEXO/fuys/stanford_teststand/TMSAnalysis/config/30th/Channel_Map_Run30.csv'\n",
    "\n",
    "#analysis_config object loads all these paramenters\n",
    "analysis_config = StruckAnalysisConfiguration.StruckAnalysisConfiguration()\n",
    "analysis_config.GetRunParametersFromFile( run_parameters_file )\n",
    "analysis_config.GetChannelMapFromFile( channel_map_file )\n",
    "\n",
    "for parameter, value in analysis_config.run_parameters.items():\n",
    "    print( '{:<25}\\t{:>10.6}'.format( parameter+':', float(value) ) )\n",
    "    \n",
    "sampling_period_us = analysis_config.run_parameters['Sampling Period [ns]'] / 1.e3 # Convert from ns to us\n",
    "trigger_time_samples = analysis_config.run_parameters['Pretrigger Length [samples]']\n",
    "waveform_length_samples = analysis_config.run_parameters['Waveform Length [samples]']"
   ]
  },
  {
   "cell_type": "code",
   "execution_count": 5,
   "metadata": {},
   "outputs": [],
   "source": [
    "path_to_reduced_data = '/dybfs2/nEXO/fuys/stanford_teststand/data/30th/20200912_MorningNoise_PreRecirculation/analysis_500ns/'\n",
    "fname = path_to_reduced_data + 'tier1_SIS3316Raw_20200912180038_SiPMs_longTPC_sbias33p0_scope_trig13_35mV_cath_6022V_1-ngm_reduced.h5'\n"
   ]
  },
  {
   "cell_type": "code",
   "execution_count": 6,
   "metadata": {},
   "outputs": [],
   "source": [
    "import pandas as pd"
   ]
  },
  {
   "cell_type": "code",
   "execution_count": 2,
   "metadata": {},
   "outputs": [
    {
     "output_type": "error",
     "ename": "NameError",
     "evalue": "name 'pd' is not defined",
     "traceback": [
      "\u001b[0;31m---------------------------------------------------------------------------\u001b[0m",
      "\u001b[0;31mNameError\u001b[0m                                 Traceback (most recent call last)",
      "\u001b[0;32m<ipython-input-2-505cd6679c14>\u001b[0m in \u001b[0;36m<module>\u001b[0;34m\u001b[0m\n\u001b[0;32m----> 1\u001b[0;31m \u001b[0mdata_df\u001b[0m \u001b[0;34m=\u001b[0m \u001b[0mpd\u001b[0m\u001b[0;34m.\u001b[0m\u001b[0mread_hdf\u001b[0m\u001b[0;34m(\u001b[0m\u001b[0mfname\u001b[0m\u001b[0;34m)\u001b[0m\u001b[0;34m\u001b[0m\u001b[0;34m\u001b[0m\u001b[0m\n\u001b[0m\u001b[1;32m      2\u001b[0m \u001b[0;31m#data_df.head()\u001b[0m\u001b[0;34m\u001b[0m\u001b[0;34m\u001b[0m\u001b[0;34m\u001b[0m\u001b[0m\n",
      "\u001b[0;31mNameError\u001b[0m: name 'pd' is not defined"
     ]
    }
   ],
   "source": [
    "data_df = pd.read_hdf(fname)\n",
    "#data_df.head()"
   ]
  },
  {
   "source": [
    "### Looking at all the variables in the data tree"
   ],
   "cell_type": "markdown",
   "metadata": {}
  },
  {
   "cell_type": "code",
   "execution_count": 6,
   "metadata": {},
   "outputs": [],
   "source": [
    "#for colname in data_df.columns:\n",
    " #   print(colname)"
   ]
  },
  {
   "source": [
    "## Analyzing the reduced(reconstruction) data"
   ],
   "cell_type": "markdown",
   "metadata": {}
  },
  {
   "source": [
    "charge_energy = data_df['TotalTileEnergy']\n",
    "time_of_max_channel = data_df['TimeOfMaxChannel']\n",
    "\n",
    "#data can also be selected for example a specific energy range\n",
    "mask = (data_df['TotalTileEnergy']>100) & (data_df['TotalTileEnergy']<5000)& (data_df['TotalSiPMEnergy']>100) & (data_df['TotalSiPMEnergy']<40000)\n",
    "\n",
    "#make a 2d histogram with the selected data (for example charge energy vs light energy)\n",
    "xbins = np.linspace(0.,6500.,200)\n",
    "ybins = np.linspace(0.,5000.,100)\n",
    "\n",
    "#plt.hist2d(time_of_max_channel[mask], charge_energy[mask],bins=(xbins,ybins))\n",
    "#plt.plot(time_of_max_channel[mask], charge_energy[mask],'o',color=(0.,0.,1.,0.1),markersize=1.)\n",
    "#plt.xlabel('Time of max channel (samples)')\n",
    "#plt.ylabel('Charge Energy (ADC units)')\n",
    "\n",
    "drift_time = (time_of_max_channel - analysis_config.run_parameters['Pretrigger Length [samples]'])*analysis_config.run_parameters['Sampling Period [ns]'] / 1000.\n",
    "\n",
    "#plt.hist2d(time_of_max_channel[mask], charge_energy[mask],bins=(xbins,ybins))\n",
    "#plt.plot(drift_time[mask], charge_energy[mask],'o',color=(0.,0.,1.,0.1),markersize=1.)\n",
    "#\n",
    "#plt.xlabel('Drift time (microseconds)')\n",
    "#plt.ylabel('Charge Energy (ADC units)')\n",
    "\n",
    "# Next, we can select events where the charge is only on one or two channels. This should be the case for most alpha events, since the ionization is so localized. \n",
    "\n",
    "mask = (data_df['TotalTileEnergy']>0) & (data_df['TotalTileEnergy']<500000)&(data_df['TotalSiPMEnergy']>0) & (data_df['TotalSiPMEnergy']<4000000)&(data_df['NumTileChannelsHit'] < 3000)\n",
    "\n",
    "#plt.hist2d(time_of_max_channel[mask], charge_energy[mask],bins=(xbins,ybins))\n",
    "#plt.plot(drift_time[mask], charge_energy[mask],'o',color=(0.,0.,1.,0.1),markersize=1.)\n",
    "#\n",
    "#plt.xlabel('Drift time (microseconds)')\n",
    "#plt.ylabel('Charge Energy (ADC units)')"
   ],
   "cell_type": "code",
   "metadata": {},
   "execution_count": 7,
   "outputs": []
  },
  {
   "cell_type": "code",
   "execution_count": 1,
   "metadata": {},
   "outputs": [
    {
     "output_type": "error",
     "ename": "NameError",
     "evalue": "name 'data_df' is not defined",
     "traceback": [
      "\u001b[0;31m---------------------------------------------------------------------------\u001b[0m",
      "\u001b[0;31mNameError\u001b[0m                                 Traceback (most recent call last)",
      "\u001b[0;32m<ipython-input-1-6bef258fcfd2>\u001b[0m in \u001b[0;36m<module>\u001b[0;34m\u001b[0m\n\u001b[1;32m      1\u001b[0m \u001b[0;31m#the indexes of the events passing the cuts can be seen in this way\u001b[0m\u001b[0;34m\u001b[0m\u001b[0;34m\u001b[0m\u001b[0;34m\u001b[0m\u001b[0m\n\u001b[0;32m----> 2\u001b[0;31m \u001b[0mcut_index\u001b[0m \u001b[0;34m=\u001b[0m \u001b[0mdata_df\u001b[0m\u001b[0;34m[\u001b[0m\u001b[0mmask\u001b[0m\u001b[0;34m]\u001b[0m\u001b[0;34m.\u001b[0m\u001b[0mindex\u001b[0m\u001b[0;34m\u001b[0m\u001b[0;34m\u001b[0m\u001b[0m\n\u001b[0m\u001b[1;32m      3\u001b[0m \u001b[0mprint\u001b[0m\u001b[0;34m(\u001b[0m\u001b[0mmask\u001b[0m\u001b[0;34m)\u001b[0m\u001b[0;34m\u001b[0m\u001b[0;34m\u001b[0m\u001b[0m\n",
      "\u001b[0;31mNameError\u001b[0m: name 'data_df' is not defined"
     ]
    }
   ],
   "source": [
    "#the indexes of the events passing the cuts can be seen in this way \n",
    "cut_index = data_df[mask].index\n",
    "print(mask)"
   ]
  },
  {
   "source": [
    "### a waveform can be accessed in the following way, in this case the first event passing the cut"
   ],
   "cell_type": "markdown",
   "metadata": {}
  },
  {
   "cell_type": "code",
   "execution_count": 3,
   "metadata": {},
   "outputs": [
    {
     "output_type": "error",
     "ename": "NameError",
     "evalue": "name 'fname' is not defined",
     "traceback": [
      "\u001b[0;31m---------------------------------------------------------------------------\u001b[0m",
      "\u001b[0;31mNameError\u001b[0m                                 Traceback (most recent call last)",
      "\u001b[0;32m<ipython-input-3-371d99e7111a>\u001b[0m in \u001b[0;36m<module>\u001b[0;34m\u001b[0m\n\u001b[0;32m----> 1\u001b[0;31m \u001b[0mevent\u001b[0m \u001b[0;34m=\u001b[0m \u001b[0mWaveform\u001b[0m\u001b[0;34m.\u001b[0m\u001b[0mEvent\u001b[0m\u001b[0;34m(\u001b[0m\u001b[0mfname\u001b[0m\u001b[0;34m,\u001b[0m\u001b[0;34m'/dybfs2/nEXO/fuys/stanford_teststand/data/30th/20200912_MorningNoise_PreRecirculation/raw_data'\u001b[0m\u001b[0;34m,\u001b[0m\u001b[0mcut_index\u001b[0m\u001b[0;34m[\u001b[0m\u001b[0;36m0\u001b[0m\u001b[0;34m]\u001b[0m\u001b[0;34m,\u001b[0m\u001b[0mrun_parameters_file\u001b[0m\u001b[0;34m,\u001b[0m\u001b[0mcalibrations_file\u001b[0m\u001b[0;34m,\u001b[0m\u001b[0mchannel_map_file\u001b[0m\u001b[0;34m)\u001b[0m\u001b[0;34m\u001b[0m\u001b[0;34m\u001b[0m\u001b[0m\n\u001b[0m\u001b[1;32m      2\u001b[0m \u001b[0;31m#the second parameter in the Event class is the location of the tier1 file, which is where the low level information\u001b[0m\u001b[0;34m\u001b[0m\u001b[0;34m\u001b[0m\u001b[0;34m\u001b[0m\u001b[0m\n\u001b[1;32m      3\u001b[0m \u001b[0;31m#are stored, such as the waveform. Make sure the dataset (in this case 20200213_AfterRnInjection matches with the one\u001b[0m\u001b[0;34m\u001b[0m\u001b[0;34m\u001b[0m\u001b[0;34m\u001b[0m\u001b[0m\n\u001b[1;32m      4\u001b[0m \u001b[0;31m#opened in the reduced_added.h5 file), the third parameter is the number of the event you want to see the waveform of\u001b[0m\u001b[0;34m\u001b[0m\u001b[0;34m\u001b[0m\u001b[0;34m\u001b[0m\u001b[0m\n\u001b[1;32m      5\u001b[0m \u001b[0;34m\u001b[0m\u001b[0m\n",
      "\u001b[0;31mNameError\u001b[0m: name 'fname' is not defined"
     ]
    }
   ],
   "source": [
    "event = Waveform.Event(fname,'/dybfs2/nEXO/fuys/stanford_teststand/data/30th/20200912_MorningNoise_PreRecirculation/raw_data',cut_index[0],run_parameters_file,calibrations_file,channel_map_file)\n",
    "#the second parameter in the Event class is the location of the tier1 file, which is where the low level information\n",
    "#are stored, such as the waveform. Make sure the dataset (in this case 20200213_AfterRnInjection matches with the one\n",
    "#opened in the reduced_added.h5 file), the third parameter is the number of the event you want to see the waveform of\n",
    "\n",
    "smoothing_windows_us = 0.05\n",
    "#event.smooth(smoothing_windows_us)\n",
    "plot = event.plot_event(risetime=True,FFT=True)\n",
    "plot.show()\n"
   ]
  },
  {
   "cell_type": "code",
   "execution_count": null,
   "metadata": {},
   "outputs": [],
   "source": []
  }
 ]
}