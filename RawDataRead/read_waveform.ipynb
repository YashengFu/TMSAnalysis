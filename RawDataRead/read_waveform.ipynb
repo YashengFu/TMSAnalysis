{
 "metadata": {
  "language_info": {
   "codemirror_mode": {
    "name": "ipython",
    "version": 3
   },
   "file_extension": ".py",
   "mimetype": "text/x-python",
   "name": "python",
   "nbconvert_exporter": "python",
   "pygments_lexer": "ipython3",
   "version": "3.6.8-final"
  },
  "orig_nbformat": 2,
  "kernelspec": {
   "name": "python3",
   "display_name": "Python 3",
   "language": "python"
  }
 },
 "nbformat": 4,
 "nbformat_minor": 2,
 "cells": [
  {
   "cell_type": "code",
   "execution_count": 1,
   "metadata": {},
   "outputs": [
    {
     "output_type": "stream",
     "name": "stdout",
     "text": [
      "Welcome to JupyROOT 6.22/06\n"
     ]
    }
   ],
   "source": [
    "import matplotlib.pyplot as plt\n",
    "import sys\n",
    "sys.path.append(\"/dybfs2/nEXO/fuys/stanford_teststand/TMSAnalysis\")\n",
    "from RawDataRead import RawData"
   ]
  },
  {
   "cell_type": "code",
   "execution_count": 2,
   "metadata": {},
   "outputs": [],
   "source": [
    "filename = [\"/dybfs2/nEXO/fuys/stanford_teststand/TMSAnalysis/RawDataRead/test.root\"]\n",
    "#filename = \"/dybfs2/nEXO/fuys/stanford_teststand/data/30th/20200912_MorningNoise_PreRecirculation/raw_data/tier1_SIS3316Raw_20200912182922_SiPMs_longTPC_sbias33p0_scope_trig13_35mV_cath_6022V_1-ngm.root\"\n"
   ]
  },
  {
   "cell_type": "code",
   "execution_count": 4,
   "metadata": {},
   "outputs": [
    {
     "output_type": "stream",
     "name": "stdout",
     "text": [
      "successfully \nTrue\n<cppyy.gbl.NGMHitv8 object at 0x7fc1e8821950>\n<cppyy.gbl.NGMHitv8 object at 0x7fc1e8821950>\n<cppyy.gbl.NGMHitv8 object at 0x7fc1e8821950>\n<cppyy.gbl.NGMHitv8 object at 0x7fc1e8821950>\n<cppyy.gbl.NGMHitv8 object at 0x7fc1e8821950>\n<cppyy.gbl.NGMHitv8 object at 0x7fc1e8821950>\n<cppyy.gbl.NGMHitv8 object at 0x7fc1e8821950>\n<cppyy.gbl.NGMHitv8 object at 0x7fc1e8821950>\n<cppyy.gbl.NGMHitv8 object at 0x7fc1e8821950>\n<cppyy.gbl.NGMHitv8 object at 0x7fc1e8821950>\n<cppyy.gbl.NGMHitv8 object at 0x7fc1e8821950>\n<cppyy.gbl.NGMHitv8 object at 0x7fc1e8821950>\n<cppyy.gbl.NGMHitv8 object at 0x7fc1e8821950>\n<cppyy.gbl.NGMHitv8 object at 0x7fc1e8821950>\n<cppyy.gbl.NGMHitv8 object at 0x7fc1e8821950>\n<cppyy.gbl.NGMHitv8 object at 0x7fc1e8821950>\n<cppyy.gbl.NGMHitv8 object at 0x7fc1e8821950>\n<cppyy.gbl.NGMHitv8 object at 0x7fc1e8821950>\n<cppyy.gbl.NGMHitv8 object at 0x7fc1e8821950>\n<cppyy.gbl.NGMHitv8 object at 0x7fc1e8821950>\n0\n"
     ]
    }
   ],
   "source": [
    "data = RawData(filename)\n",
    "total_evt = data.Test()\n",
    "print(total_evt)\n",
    "\n",
    "waveform=[]\n",
    "#for i in range(data.GetEntries()):\n",
    "for i in range(2):\n",
    "    data.GetEntry(i)\n",
    "    slot = data.GetAttr(\"_slot\")\n",
    "    channel = data.GetAttr(\"_channel\")\n",
    "    print(slot)\n",
    "    #if int(slot*16+channel) == 0:\n",
    "    #    waveform.append(data.GetAttr(\"_waveform\"))\n",
    "     #   print(waveform)\n",
    "print(len(waveform))\n"
   ]
  },
  {
   "cell_type": "code",
   "execution_count": null,
   "metadata": {},
   "outputs": [],
   "source": []
  }
 ]
}